{
 "cells": [
  {
   "cell_type": "code",
   "execution_count": 0,
   "metadata": {
    "application/vnd.databricks.v1+cell": {
     "cellMetadata": {
      "byteLimit": 2048000,
      "rowLimit": 10000
     },
     "inputWidgets": {},
     "nuid": "640d4f81-7806-4143-8132-9d2468e65bdb",
     "showTitle": false,
     "tableResultSettingsMap": {},
     "title": ""
    }
   },
   "outputs": [],
   "source": [
    "%sh\n",
    "python --version"
   ]
  },
  {
   "cell_type": "code",
   "execution_count": 0,
   "metadata": {
    "application/vnd.databricks.v1+cell": {
     "cellMetadata": {
      "byteLimit": 2048000,
      "rowLimit": 10000
     },
     "inputWidgets": {},
     "nuid": "8980be8f-50bf-4fa4-a2df-27551a76c83e",
     "showTitle": false,
     "tableResultSettingsMap": {},
     "title": ""
    }
   },
   "outputs": [],
   "source": [
    "print(\"Hello World\")"
   ]
  },
  {
   "cell_type": "markdown",
   "metadata": {
    "application/vnd.databricks.v1+cell": {
     "cellMetadata": {},
     "inputWidgets": {},
     "nuid": "7cca152f-1896-4d12-bcb9-0e7b2dda8420",
     "showTitle": false,
     "tableResultSettingsMap": {},
     "title": ""
    }
   },
   "source": [
    "Font"
   ]
  },
  {
   "cell_type": "markdown",
   "metadata": {
    "application/vnd.databricks.v1+cell": {
     "cellMetadata": {},
     "inputWidgets": {},
     "nuid": "525be949-516a-4ed9-92ed-6b9468d45566",
     "showTitle": false,
     "tableResultSettingsMap": {},
     "title": ""
    }
   },
   "source": [
    "#Font"
   ]
  },
  {
   "cell_type": "markdown",
   "metadata": {
    "application/vnd.databricks.v1+cell": {
     "cellMetadata": {},
     "inputWidgets": {},
     "nuid": "6017ff76-101e-41fc-bcb3-41140ec0074a",
     "showTitle": false,
     "tableResultSettingsMap": {},
     "title": ""
    }
   },
   "source": [
    "##Font"
   ]
  },
  {
   "cell_type": "markdown",
   "metadata": {
    "application/vnd.databricks.v1+cell": {
     "cellMetadata": {},
     "inputWidgets": {},
     "nuid": "35f74c28-2c90-41e8-a8d8-888898d1e36d",
     "showTitle": false,
     "tableResultSettingsMap": {},
     "title": ""
    }
   },
   "source": [
    "##Font"
   ]
  },
  {
   "cell_type": "code",
   "execution_count": 0,
   "metadata": {
    "application/vnd.databricks.v1+cell": {
     "cellMetadata": {
      "byteLimit": 2048000,
      "rowLimit": 10000
     },
     "inputWidgets": {},
     "nuid": "648e8305-651b-4b63-8258-b8c8b5bfff9a",
     "showTitle": false,
     "tableResultSettingsMap": {},
     "title": ""
    }
   },
   "outputs": [],
   "source": [
    "1 + 2"
   ]
  },
  {
   "cell_type": "code",
   "execution_count": 0,
   "metadata": {
    "application/vnd.databricks.v1+cell": {
     "cellMetadata": {
      "byteLimit": 2048000,
      "rowLimit": 10000
     },
     "inputWidgets": {},
     "nuid": "8f71c234-1df6-466e-9783-c82311268797",
     "showTitle": false,
     "tableResultSettingsMap": {},
     "title": ""
    }
   },
   "outputs": [],
   "source": [
    "2 ** 3"
   ]
  },
  {
   "cell_type": "code",
   "execution_count": 0,
   "metadata": {
    "application/vnd.databricks.v1+cell": {
     "cellMetadata": {
      "byteLimit": 2048000,
      "rowLimit": 10000
     },
     "inputWidgets": {},
     "nuid": "afbecf12-7900-411b-8949-d887db3f7819",
     "showTitle": false,
     "tableResultSettingsMap": {},
     "title": ""
    }
   },
   "outputs": [],
   "source": [
    "pow(2,3)"
   ]
  },
  {
   "cell_type": "code",
   "execution_count": 0,
   "metadata": {
    "application/vnd.databricks.v1+cell": {
     "cellMetadata": {
      "byteLimit": 2048000,
      "rowLimit": 10000
     },
     "inputWidgets": {},
     "nuid": "35df5c6d-298f-4cd2-8a14-53447fb5c86a",
     "showTitle": false,
     "tableResultSettingsMap": {},
     "title": ""
    }
   },
   "outputs": [],
   "source": [
    "help(pow)"
   ]
  },
  {
   "cell_type": "code",
   "execution_count": 0,
   "metadata": {
    "application/vnd.databricks.v1+cell": {
     "cellMetadata": {
      "byteLimit": 2048000,
      "rowLimit": 10000
     },
     "inputWidgets": {},
     "nuid": "c011acaf-3a80-463f-9276-5d666b087a44",
     "showTitle": false,
     "tableResultSettingsMap": {},
     "title": ""
    }
   },
   "outputs": [],
   "source": [
    "pow(2,3,10)"
   ]
  },
  {
   "cell_type": "markdown",
   "metadata": {
    "application/vnd.databricks.v1+cell": {
     "cellMetadata": {},
     "inputWidgets": {},
     "nuid": "923308e9-2ae3-4c7f-8ed5-de44772d9ebd",
     "showTitle": false,
     "tableResultSettingsMap": {},
     "title": ""
    }
   },
   "source": [
    "##To get all built in functions in python"
   ]
  },
  {
   "cell_type": "code",
   "execution_count": 0,
   "metadata": {
    "application/vnd.databricks.v1+cell": {
     "cellMetadata": {
      "byteLimit": 2048000,
      "rowLimit": 10000
     },
     "inputWidgets": {},
     "nuid": "64e51766-467a-46b7-91ff-3c4d22548e2f",
     "showTitle": false,
     "tableResultSettingsMap": {},
     "title": ""
    }
   },
   "outputs": [],
   "source": [
    "print(len(dir(__builtin__ )))\n",
    "print(len(dir(__builtins__)))\n",
    "display(dir(__builtins__))"
   ]
  },
  {
   "cell_type": "code",
   "execution_count": 0,
   "metadata": {
    "application/vnd.databricks.v1+cell": {
     "cellMetadata": {
      "byteLimit": 2048000,
      "rowLimit": 10000
     },
     "inputWidgets": {},
     "nuid": "03b0dcbd-9abb-46dc-a918-db0473ecdf39",
     "showTitle": false,
     "tableResultSettingsMap": {},
     "title": ""
    }
   },
   "outputs": [],
   "source": [
    "help(enumerate)"
   ]
  },
  {
   "cell_type": "code",
   "execution_count": 0,
   "metadata": {
    "application/vnd.databricks.v1+cell": {
     "cellMetadata": {
      "byteLimit": 2048000,
      "rowLimit": 10000
     },
     "inputWidgets": {},
     "nuid": "4c1a0a09-3f67-4d3f-a817-d1bbd2fc48e0",
     "showTitle": false,
     "tableResultSettingsMap": {},
     "title": ""
    }
   },
   "outputs": [],
   "source": [
    "math"
   ]
  },
  {
   "cell_type": "code",
   "execution_count": 0,
   "metadata": {
    "application/vnd.databricks.v1+cell": {
     "cellMetadata": {
      "byteLimit": 2048000,
      "rowLimit": 10000
     },
     "inputWidgets": {},
     "nuid": "5286a922-43d4-4156-a56a-b52fb352fd1a",
     "showTitle": false,
     "tableResultSettingsMap": {},
     "title": ""
    }
   },
   "outputs": [],
   "source": [
    "import math"
   ]
  },
  {
   "cell_type": "code",
   "execution_count": 0,
   "metadata": {
    "application/vnd.databricks.v1+cell": {
     "cellMetadata": {
      "byteLimit": 2048000,
      "rowLimit": 10000
     },
     "inputWidgets": {},
     "nuid": "2baf2510-353b-4971-8151-d1975c764fd3",
     "showTitle": false,
     "tableResultSettingsMap": {},
     "title": ""
    }
   },
   "outputs": [],
   "source": [
    "math"
   ]
  },
  {
   "cell_type": "code",
   "execution_count": 0,
   "metadata": {
    "application/vnd.databricks.v1+cell": {
     "cellMetadata": {
      "byteLimit": 2048000,
      "rowLimit": 10000
     },
     "inputWidgets": {},
     "nuid": "db6b9554-bd73-4235-81cc-b25a10f99950",
     "showTitle": false,
     "tableResultSettingsMap": {},
     "title": ""
    }
   },
   "outputs": [],
   "source": [
    "help(modules)"
   ]
  },
  {
   "cell_type": "code",
   "execution_count": 0,
   "metadata": {
    "application/vnd.databricks.v1+cell": {
     "cellMetadata": {
      "byteLimit": 2048000,
      "rowLimit": 10000
     },
     "inputWidgets": {},
     "nuid": "3e278e37-266c-4740-80a4-a1f8523277bc",
     "showTitle": false,
     "tableResultSettingsMap": {},
     "title": ""
    }
   },
   "outputs": [],
   "source": [
    "import sys\n",
    "sys.builtin_module_names"
   ]
  },
  {
   "cell_type": "code",
   "execution_count": 0,
   "metadata": {
    "application/vnd.databricks.v1+cell": {
     "cellMetadata": {
      "byteLimit": 2048000,
      "rowLimit": 10000
     },
     "inputWidgets": {},
     "nuid": "e7b40297-e8d4-492f-bd43-f4d6cedd5f96",
     "showTitle": false,
     "tableResultSettingsMap": {},
     "title": ""
    }
   },
   "outputs": [],
   "source": [
    "help(math)"
   ]
  },
  {
   "cell_type": "code",
   "execution_count": 0,
   "metadata": {
    "application/vnd.databricks.v1+cell": {
     "cellMetadata": {
      "byteLimit": 2048000,
      "rowLimit": 10000
     },
     "inputWidgets": {},
     "nuid": "65cf16bb-c73f-4934-9121-8df3858dbc7a",
     "showTitle": false,
     "tableResultSettingsMap": {},
     "title": ""
    }
   },
   "outputs": [],
   "source": [
    "math.sqrt(4)"
   ]
  },
  {
   "cell_type": "code",
   "execution_count": 0,
   "metadata": {
    "application/vnd.databricks.v1+cell": {
     "cellMetadata": {
      "byteLimit": 2048000,
      "rowLimit": 10000
     },
     "inputWidgets": {},
     "nuid": "646dede3-9ddc-4c14-81e5-c89c7e5b201f",
     "showTitle": false,
     "tableResultSettingsMap": {},
     "title": ""
    }
   },
   "outputs": [],
   "source": [
    "sqrt(4)"
   ]
  },
  {
   "cell_type": "code",
   "execution_count": 0,
   "metadata": {
    "application/vnd.databricks.v1+cell": {
     "cellMetadata": {
      "byteLimit": 2048000,
      "rowLimit": 10000
     },
     "inputWidgets": {},
     "nuid": "2b21d068-10e6-4f8b-8c81-83273e1f8899",
     "showTitle": false,
     "tableResultSettingsMap": {},
     "title": ""
    }
   },
   "outputs": [],
   "source": [
    "print(math.pow(2,3))\n",
    "print(pow(2,3))"
   ]
  },
  {
   "cell_type": "markdown",
   "metadata": {
    "application/vnd.databricks.v1+cell": {
     "cellMetadata": {},
     "inputWidgets": {},
     "nuid": "823926f5-d8d5-463a-8c74-d28f31642887",
     "showTitle": false,
     "tableResultSettingsMap": {},
     "title": ""
    }
   },
   "source": [
    "##To install new Librararies from pypi.org"
   ]
  },
  {
   "cell_type": "code",
   "execution_count": 0,
   "metadata": {
    "application/vnd.databricks.v1+cell": {
     "cellMetadata": {
      "byteLimit": 2048000,
      "rowLimit": 10000
     },
     "inputWidgets": {},
     "nuid": "8f9b4763-4386-4e6f-838f-edd6c7432b60",
     "showTitle": false,
     "tableResultSettingsMap": {},
     "title": ""
    }
   },
   "outputs": [],
   "source": [
    "pip install amzon.line"
   ]
  },
  {
   "cell_type": "code",
   "execution_count": 0,
   "metadata": {
    "application/vnd.databricks.v1+cell": {
     "cellMetadata": {
      "byteLimit": 2048000,
      "rowLimit": 10000
     },
     "inputWidgets": {},
     "nuid": "5b78a55c-a66f-40c7-aeba-7da77f64bdc0",
     "showTitle": false,
     "tableResultSettingsMap": {},
     "title": ""
    }
   },
   "outputs": [],
   "source": [
    "import amazon.line"
   ]
  },
  {
   "cell_type": "code",
   "execution_count": 0,
   "metadata": {
    "application/vnd.databricks.v1+cell": {
     "cellMetadata": {
      "byteLimit": 2048000,
      "rowLimit": 10000
     },
     "inputWidgets": {},
     "nuid": "041fa09b-5414-46b3-99da-d2f0abf39536",
     "showTitle": false,
     "tableResultSettingsMap": {},
     "title": ""
    }
   },
   "outputs": [],
   "source": [
    "import jwt"
   ]
  },
  {
   "cell_type": "code",
   "execution_count": 0,
   "metadata": {
    "application/vnd.databricks.v1+cell": {
     "cellMetadata": {
      "byteLimit": 2048000,
      "rowLimit": 10000
     },
     "inputWidgets": {},
     "nuid": "cacd019c-80b3-4204-a64f-721a10663f21",
     "showTitle": false,
     "tableResultSettingsMap": {},
     "title": ""
    }
   },
   "outputs": [],
   "source": [
    "str1 = \"Python\"\n",
    "str2 = \"Tutorial\"\n",
    "str3 = str1 * 2\n",
    "print(str1 +' '+ str2)\n",
    "#print(st1**2)\n",
    "print(str3)\n",
    "#by slicing\n",
    "print(str1[2:7])\n",
    "string1='Python'\n",
    "print(string1[-1]+string1[1])\n",
    "#This wont give index out of range error\n",
    "print(str1[:100])\n",
    "#String can be reverse with below\n",
    "print(string1[-1:])"
   ]
  },
  {
   "cell_type": "markdown",
   "metadata": {
    "application/vnd.databricks.v1+cell": {
     "cellMetadata": {},
     "inputWidgets": {},
     "nuid": "f7a35883-16b4-4d56-b3fb-aa135f8726b0",
     "showTitle": false,
     "tableResultSettingsMap": {},
     "title": ""
    }
   },
   "source": [
    "##Slicing"
   ]
  },
  {
   "cell_type": "code",
   "execution_count": 0,
   "metadata": {
    "application/vnd.databricks.v1+cell": {
     "cellMetadata": {
      "byteLimit": 2048000,
      "rowLimit": 10000
     },
     "inputWidgets": {},
     "nuid": "4f9efab6-3367-41f1-b289-6b57fb02d264",
     "showTitle": false,
     "tableResultSettingsMap": {},
     "title": ""
    }
   },
   "outputs": [],
   "source": [
    "a=[12,\"cisco\",28,\"India\"]\n",
    "print(a)\n",
    "#Forward Indexing\n",
    "print(a[3])\n",
    "#Reverse Indexing\n",
    "print(a[-1])\n",
    "#by slicing\n",
    "print(a[3:])\n",
    "#forward index will take upper limit as -1\n",
    "print(a[3:4])\n",
    "#reverse index will take upper limit as 0\n",
    "print(a[-1:])"
   ]
  },
  {
   "cell_type": "markdown",
   "metadata": {
    "application/vnd.databricks.v1+cell": {
     "cellMetadata": {},
     "inputWidgets": {},
     "nuid": "5714af31-c7d2-4fe5-89ba-f73e055bf6b5",
     "showTitle": false,
     "tableResultSettingsMap": {},
     "title": ""
    }
   },
   "source": [
    "##String inbuilt functions"
   ]
  },
  {
   "cell_type": "code",
   "execution_count": 0,
   "metadata": {
    "application/vnd.databricks.v1+cell": {
     "cellMetadata": {
      "byteLimit": 2048000,
      "rowLimit": 10000
     },
     "inputWidgets": {},
     "nuid": "0b38b3f6-f8af-479e-af1f-e0b0e0547f1e",
     "showTitle": false,
     "tableResultSettingsMap": {},
     "title": ""
    }
   },
   "outputs": [],
   "source": [
    "data1=\"Python\"\n",
    "data2=\"Welcome, to Python\"\n",
    "#find\n",
    "print(data1.find(\"thon\"))\n",
    "print(data1.replace('Py','p'))\n",
    "print(data2.split(','))\n",
    "print(data2.count('o',2,len(data2)))\n",
    "print(data1.upper())\n",
    "print(max(data1))\n",
    "print(min(data1))\n",
    "print(data1.isalpha())"
   ]
  },
  {
   "cell_type": "markdown",
   "metadata": {
    "application/vnd.databricks.v1+cell": {
     "cellMetadata": {},
     "inputWidgets": {},
     "nuid": "2941329c-7e31-45df-b608-2dfd31bb110d",
     "showTitle": false,
     "tableResultSettingsMap": {},
     "title": ""
    }
   },
   "source": [
    "##Tuples"
   ]
  },
  {
   "cell_type": "code",
   "execution_count": 0,
   "metadata": {
    "application/vnd.databricks.v1+cell": {
     "cellMetadata": {
      "byteLimit": 2048000,
      "rowLimit": 10000
     },
     "inputWidgets": {},
     "nuid": "b87ea023-723b-4e47-9ee8-6596ec0d2c3c",
     "showTitle": false,
     "tableResultSettingsMap": {},
     "title": ""
    }
   },
   "outputs": [],
   "source": [
    "dataTuple1=('N','a','v','e','e','n')\n",
    "dataTuple2=('R','e','d','d','y')\n",
    "#Contenation\n",
    "print(dataTuple1 + dataTuple2)\n",
    "#Repetition\n",
    "print(dataTuple1 * 2)\n",
    "#Slicing\n",
    "print(dataTuple1[1:3])\n",
    "#Indexing\n",
    "print(dataTuple1[0])\n",
    "#reverse\n",
    "print(dataTuple1[-1])\n",
    "#reverse slicing\n",
    "print(dataTuple1[:-1])\n",
    "dataTuple3=dataTuple1[-1],dataTuple1[-2]\n",
    "print(dataTuple3)"
   ]
  },
  {
   "cell_type": "markdown",
   "metadata": {
    "application/vnd.databricks.v1+cell": {
     "cellMetadata": {},
     "inputWidgets": {},
     "nuid": "5655f9d2-75f4-4a26-8189-e96ea1a00c67",
     "showTitle": false,
     "tableResultSettingsMap": {},
     "title": ""
    }
   },
   "source": [
    "#List Practice"
   ]
  },
  {
   "cell_type": "code",
   "execution_count": 0,
   "metadata": {
    "application/vnd.databricks.v1+cell": {
     "cellMetadata": {
      "byteLimit": 2048000,
      "rowLimit": 10000
     },
     "inputWidgets": {},
     "nuid": "06835d92-e088-47b1-ae13-fae2fd04565e",
     "showTitle": false,
     "tableResultSettingsMap": {},
     "title": ""
    }
   },
   "outputs": [],
   "source": [
    "#Concatenation\n",
    "#Repetition\n",
    "#Slicing\n",
    "#Indexing\n",
    "\n",
    "list1=[1,'a',2.5]\n",
    "print('list1 before append:',list1)\n",
    "#append(value)\n",
    "list1.append('d')\n",
    "print('list1 after append:',list1)\n",
    "list2=[1,'a',2.5]\n",
    "print(list2)\n",
    "#extend(list)\n",
    "list2.extend(['c','d'])\n",
    "print(list2)\n",
    "list3=[1,'a',2.5]\n",
    "print(list3)\n",
    "#insert(index,value)\n",
    "list3.insert(2,'b')\n",
    "print(list3)\n",
    "list4=['a','b','c']\n",
    "print(list4)\n",
    "#pop()\n",
    "list4.pop()\n",
    "print(list4)\n"
   ]
  },
  {
   "cell_type": "markdown",
   "metadata": {
    "application/vnd.databricks.v1+cell": {
     "cellMetadata": {},
     "inputWidgets": {},
     "nuid": "37299823-64bb-4b55-8a9d-96795701c9ad",
     "showTitle": false,
     "tableResultSettingsMap": {},
     "title": ""
    }
   },
   "source": [
    "##Dictionary Examples"
   ]
  },
  {
   "cell_type": "code",
   "execution_count": 0,
   "metadata": {
    "application/vnd.databricks.v1+cell": {
     "cellMetadata": {
      "byteLimit": 2048000,
      "rowLimit": 10000
     },
     "inputWidgets": {},
     "nuid": "7f492b8d-a274-40e5-9f00-09be284b4653",
     "showTitle": false,
     "tableResultSettingsMap": {},
     "title": ""
    }
   },
   "outputs": [],
   "source": [
    "myDict = {}\n",
    "print(\"Empty Dictionary:\",myDict)\n",
    "myDict1 = {1:'apple',2:'ball'}\n",
    "print(\"Dictionary with Integer Keys:\",myDict1)\n",
    "myDict2 = {'name':'John',1:[2,4,3]}\n",
    "print(\"Dictionary with multiple keys:\",myDict2)\n",
    "myDict3 = dict([(1,'apple'),(2,'ball')])\n",
    "print(\"Dictionary with dict() method:\",myDict3)"
   ]
  },
  {
   "cell_type": "markdown",
   "metadata": {
    "application/vnd.databricks.v1+cell": {
     "cellMetadata": {},
     "inputWidgets": {},
     "nuid": "2c0febba-6443-411f-9372-9a0a107b04de",
     "showTitle": false,
     "tableResultSettingsMap": {},
     "title": ""
    }
   },
   "source": [
    "##Dictionary Methods"
   ]
  },
  {
   "cell_type": "code",
   "execution_count": 0,
   "metadata": {
    "application/vnd.databricks.v1+cell": {
     "cellMetadata": {
      "byteLimit": 2048000,
      "rowLimit": 10000
     },
     "inputWidgets": {},
     "nuid": "2c275c13-70da-4b49-b658-1db24012f380",
     "showTitle": false,
     "tableResultSettingsMap": {},
     "title": ""
    }
   },
   "outputs": [],
   "source": [
    "myDict4={1:'apple',2:'ball'}\n",
    "myDict5={1:'apple',2:'ball'}\n",
    "#Accessing Dictionary\n",
    "print(\"Accessing Dictionary with Keys:\",myDict4[1])\n",
    "#length\n",
    "print(\"Length of myDict4:\",len(myDict4))\n",
    "#keys\n",
    "print(\"Display keys from myDict4:\",myDict4.keys())\n",
    "#values\n",
    "print(\"Display values from myDict4:\",myDict4.values())\n",
    "#items\n",
    "print(\"\",myDict4.items())\n",
    "#get\n",
    "print(myDict4.get(1))\n",
    "#update()\n",
    "print(myDict4.update({3:'c'}))\n",
    "#pop()\n",
    "print(\"Diplay myDict4 before pop():\",myDict5)\n",
    "print(myDict5.pop(2))\n",
    "print(\"Diplay myDict4 after pop():\",myDict5)"
   ]
  },
  {
   "cell_type": "markdown",
   "metadata": {
    "application/vnd.databricks.v1+cell": {
     "cellMetadata": {},
     "inputWidgets": {},
     "nuid": "66b7a886-a3a5-4eeb-ac94-ca00555e9a0c",
     "showTitle": false,
     "tableResultSettingsMap": {},
     "title": ""
    }
   },
   "source": [
    "#Sets Examples"
   ]
  },
  {
   "cell_type": "code",
   "execution_count": 0,
   "metadata": {
    "application/vnd.databricks.v1+cell": {
     "cellMetadata": {
      "byteLimit": 2048000,
      "rowLimit": 10000
     },
     "inputWidgets": {},
     "nuid": "2f9ef99b-4045-48cc-90f6-5e830b83d7e4",
     "showTitle": false,
     "tableResultSettingsMap": {},
     "title": ""
    }
   },
   "outputs": [],
   "source": [
    "mySet1 = {1,2,3,3}\n",
    "#removing duplicates from the list\n",
    "print(mySet1)\n",
    "#union\n",
    "mySet2 = {1,2,'c'}\n",
    "mySet3 = {1,'b','c'}\n",
    "print(mySet2 | mySet3)\n",
    "#intersection\n",
    "print(mySet2 & mySet3)\n",
    "#difference\n",
    "print(\"Difference: \",mySet2 - mySet3)\n"
   ]
  },
  {
   "cell_type": "markdown",
   "metadata": {
    "application/vnd.databricks.v1+cell": {
     "cellMetadata": {},
     "inputWidgets": {},
     "nuid": "8cf49411-c0d6-43ba-8f18-0a9850249a6b",
     "showTitle": false,
     "tableResultSettingsMap": {},
     "title": ""
    }
   },
   "source": [
    "###Object-Oriented Programming (OOP)\n",
    "OOP, or Object-Oriented Programming, is a method of structuring a program by bundling related properties and behaviors into individual objects"
   ]
  },
  {
   "cell_type": "code",
   "execution_count": 0,
   "metadata": {
    "application/vnd.databricks.v1+cell": {
     "cellMetadata": {
      "byteLimit": 2048000,
      "rowLimit": 10000
     },
     "inputWidgets": {},
     "nuid": "b303fa4f-c8fb-4095-9a1f-aeb255dcffb1",
     "showTitle": false,
     "tableResultSettingsMap": {},
     "title": ""
    }
   },
   "outputs": [],
   "source": [
    "class Car():\n",
    "  '''This is car class'''\n",
    "  gear=\"semi\"\n",
    "  brand=\"Maruthi\"\n",
    "  color=\"white\"\n",
    "  def startcar(kiran):\n",
    "    print(\"starting the car.....\")\n",
    "print(Car.gear)\n",
    "dir(Car)\n",
    "# help(Car)\n",
    "print(id(Car))"
   ]
  },
  {
   "cell_type": "code",
   "execution_count": 0,
   "metadata": {
    "application/vnd.databricks.v1+cell": {
     "cellMetadata": {
      "byteLimit": 2048000,
      "rowLimit": 10000
     },
     "inputWidgets": {},
     "nuid": "002f4392-bb14-40d0-836b-790b52874e7d",
     "showTitle": false,
     "tableResultSettingsMap": {},
     "title": ""
    }
   },
   "outputs": [],
   "source": [
    "c=Car()\n",
    "print(c)\n",
    "dir(c)\n",
    "# help(c)\n",
    "print(id(c))\n",
    "print(Car is c)\n",
    "print((c.gear))"
   ]
  },
  {
   "cell_type": "code",
   "execution_count": 0,
   "metadata": {
    "application/vnd.databricks.v1+cell": {
     "cellMetadata": {
      "byteLimit": 2048000,
      "rowLimit": 10000
     },
     "inputWidgets": {},
     "nuid": "05445c63-331e-4d5e-abdf-4cb60199e463",
     "showTitle": false,
     "tableResultSettingsMap": {},
     "title": ""
    }
   },
   "outputs": [],
   "source": [
    "d=Car()\n",
    "print(c is d)\n",
    "print(c.gear is d.gear)\n",
    "print(c.gear == d.gear)\n",
    "print(id(d))"
   ]
  },
  {
   "cell_type": "code",
   "execution_count": 0,
   "metadata": {
    "application/vnd.databricks.v1+cell": {
     "cellMetadata": {
      "byteLimit": 2048000,
      "rowLimit": 10000
     },
     "inputWidgets": {},
     "nuid": "1b78a337-ada3-42c8-9e20-ca5e89e3104f",
     "showTitle": false,
     "tableResultSettingsMap": {},
     "title": ""
    }
   },
   "outputs": [],
   "source": [
    "class Car():\n",
    "  gear=\"semi\"\n",
    "  brand=\"hundai\"\n",
    "  color=\"white\"\n",
    "greenCar = Car()\n",
    "\n",
    "\n",
    "print(greenCar.color)\n",
    "greenCar.color=\"green\"\n",
    "print(greenCar.color)"
   ]
  },
  {
   "cell_type": "code",
   "execution_count": 0,
   "metadata": {
    "application/vnd.databricks.v1+cell": {
     "cellMetadata": {
      "byteLimit": 2048000,
      "rowLimit": 10000
     },
     "inputWidgets": {},
     "nuid": "1c7b3f12-58ea-4421-a863-df893ca5fac4",
     "showTitle": false,
     "tableResultSettingsMap": {},
     "title": ""
    }
   },
   "outputs": [],
   "source": [
    "redCar=Car()\n",
    "\n",
    "redCar.color\n",
    "\n",
    "redCar.gear\n",
    "\n",
    "redCar.color=\"Red\""
   ]
  },
  {
   "cell_type": "code",
   "execution_count": 0,
   "metadata": {
    "application/vnd.databricks.v1+cell": {
     "cellMetadata": {
      "byteLimit": 2048000,
      "rowLimit": 10000
     },
     "inputWidgets": {},
     "nuid": "974a112b-3f6d-4265-9370-33961b7d65bb",
     "showTitle": false,
     "tableResultSettingsMap": {},
     "title": ""
    }
   },
   "outputs": [],
   "source": [
    "class Car:\n",
    "  gear=\"semi\"\n",
    "  color=\"white\"\n",
    "  def printDetails(self):\n",
    "    print (self.gear,self.color)\n",
    "#     print (greencar.gear,greencar.color)\n",
    "#      print(redcar.gear,redcar.color)\n",
    "\n",
    "\n",
    "greenCar=Car()# greenCar.printDetails(greenCar)\n",
    "\n",
    "greenCar.printDetails()\n",
    "# greenCar.printDetails(greenCar)\n",
    "redcar=Car()\n",
    "redcar.printDetails()\n",
    "# redcar.printDetails(redcar)"
   ]
  },
  {
   "cell_type": "code",
   "execution_count": 0,
   "metadata": {
    "application/vnd.databricks.v1+cell": {
     "cellMetadata": {
      "byteLimit": 2048000,
      "rowLimit": 10000
     },
     "inputWidgets": {},
     "nuid": "e4cdca55-00ae-42d4-baeb-092ab61ba403",
     "showTitle": false,
     "tableResultSettingsMap": {},
     "title": ""
    }
   },
   "outputs": [],
   "source": [
    "class Employee:\n",
    "    def __init__(self):\n",
    "      print(\" This is constructor\")# this is constructor\n",
    "      self.name = \"None\"\n",
    "      self.salary = 100\n",
    "      self.age=10\n",
    "    def displayName(self):\n",
    "        print (\"Employee \",self.name)\n",
    "    def displaydetails(self):\n",
    "      print (\"Name : \", self.name,  \", Salary: \", self.salary, \", age: \", self.age)\n",
    "    def increaseSalary(self):\n",
    "      self.salary += 500\n",
    "      print (self.salary)\n",
    "\n",
    "\n",
    "\n",
    "emp1=Employee()\n",
    "\n",
    "print(emp1.name)\n",
    "print(emp1.salary)\n",
    "print(emp1.age)\n",
    "# emp1.displayName()\n",
    "# emp1.increaseSalary()"
   ]
  },
  {
   "cell_type": "code",
   "execution_count": 0,
   "metadata": {
    "application/vnd.databricks.v1+cell": {
     "cellMetadata": {
      "byteLimit": 2048000,
      "rowLimit": 10000
     },
     "inputWidgets": {},
     "nuid": "e55fa9d4-68f3-402c-949a-0d4ced7f00c6",
     "showTitle": false,
     "tableResultSettingsMap": {},
     "title": ""
    }
   },
   "outputs": [],
   "source": [
    "emp1.name=\"ashok\"\n",
    "emp1.age=30\n",
    "emp1.salary=2000\n",
    "print(emp1.name)\n",
    "print(emp1.salary)\n",
    "print(emp1.age)\n",
    "emp1.displayName()\n",
    "\n",
    "\n",
    "emp2=Employee()\n",
    "emp2.name=\"rajan\"\n",
    "emp2.age=35\n",
    "emp2.salary=3000\n",
    "print(emp2.name)\n",
    "print(emp2.salary)\n",
    "print(emp2.age)"
   ]
  },
  {
   "cell_type": "code",
   "execution_count": 0,
   "metadata": {
    "application/vnd.databricks.v1+cell": {
     "cellMetadata": {
      "byteLimit": 2048000,
      "rowLimit": 10000
     },
     "inputWidgets": {},
     "nuid": "ea93a841-8951-437c-9af1-3bd8e33563d7",
     "showTitle": false,
     "tableResultSettingsMap": {},
     "title": ""
    }
   },
   "outputs": [],
   "source": [
    "class Employee:\n",
    "    def __init__(self,x,y,z):\n",
    "      self.name = x\n",
    "      self.salary = y\n",
    "      self.age=z\n",
    "    def displaydetails(self):\n",
    "      print (\"Name : \", self.name,  \", Salary: \", self.salary, \", age: \", self.age)\n",
    "      \n",
    "      \n",
    "emp1=Employee(\"raghav\", 2000,20)\n",
    "emp2=Employee(\"aakash\", 4440, 14)\n",
    "emp1.displaydetails()\n",
    "emp2.displaydetails()"
   ]
  },
  {
   "cell_type": "code",
   "execution_count": 0,
   "metadata": {
    "application/vnd.databricks.v1+cell": {
     "cellMetadata": {
      "byteLimit": 2048000,
      "rowLimit": 10000
     },
     "inputWidgets": {},
     "nuid": "68ed1f7a-ed71-4fdd-8f07-545885bec3a9",
     "showTitle": false,
     "tableResultSettingsMap": {},
     "title": ""
    }
   },
   "outputs": [],
   "source": [
    "class Employee:\n",
    "   count=0\n",
    "   def __init__(self,x,y,z ):\n",
    "      print(\" This is constructor\")# this is constructor\n",
    "      self.name = x\n",
    "      self.salary = y\n",
    "      self.age=z\n",
    "      Employee.count+=1\n",
    "#    def __str__(self):\n",
    "#      self.age=100\n",
    "#      return \"I am Employee and my name is  \" +self.name\n",
    "   def displayName(self):\n",
    "     print (\"Employee \",self.name)\n",
    "   def displaydetails(self):\n",
    "      print (\"Name : \", self.name,  \", Salary: \", self.salary, \", age: \", self.age)\n",
    "   def increaseSalary(self):\n",
    "      self.salary += 1500\n",
    "      print (self.salary)\n",
    "      \n",
    "      \n",
    "      \n",
    "emp1=Employee(\"raghav\", 2000, 14)\n",
    "emp1.displayName()\n",
    "# print(emp1.__str__())\n",
    "# print(emp1)\n",
    "# print(emp1.age)\n",
    "# emp1.__str__()\n",
    "print (\"Employee.count\",Employee.count)\n",
    "print(emp1.count)\n",
    "emp2=Employee(\"raghav1\", 2000, 14)\n",
    "print(emp2.count)\n",
    "emp2.count=10\n",
    "# emp2.deprtment=\"abc\"\n",
    "# print(emp1.department)\n",
    "# print(emp2.deprtment)\n",
    "print(emp2.count)\n",
    "print(Employee.count)\n",
    "# # print(dir(emp1))\n",
    "# emp3=Employee(\"raghav1\", 2000, 14)\n",
    "# print(emp2.count)\n",
    "# print(Employee.count)\n",
    "# print(emp1.count)\n",
    "# print()"
   ]
  },
  {
   "cell_type": "markdown",
   "metadata": {
    "application/vnd.databricks.v1+cell": {
     "cellMetadata": {},
     "inputWidgets": {},
     "nuid": "9c3e451b-d876-4cc9-9d89-b9b18e2e441f",
     "showTitle": false,
     "tableResultSettingsMap": {},
     "title": ""
    }
   },
   "source": [
    "###Functions"
   ]
  },
  {
   "cell_type": "code",
   "execution_count": 0,
   "metadata": {
    "application/vnd.databricks.v1+cell": {
     "cellMetadata": {
      "byteLimit": 2048000,
      "rowLimit": 10000
     },
     "inputWidgets": {},
     "nuid": "c0e87c87-76f6-4673-b873-ada3ce4482f5",
     "showTitle": false,
     "tableResultSettingsMap": {},
     "title": ""
    }
   },
   "outputs": [],
   "source": [
    "def subject():\n",
    "    print( \"python class\")\n",
    "    print (\"I Am learning python\")\n",
    "    print (\"I am after function\")\n",
    "\n",
    "# print(subject())\n",
    "subject()"
   ]
  },
  {
   "cell_type": "code",
   "execution_count": 0,
   "metadata": {
    "application/vnd.databricks.v1+cell": {
     "cellMetadata": {
      "byteLimit": 2048000,
      "rowLimit": 10000
     },
     "inputWidgets": {},
     "nuid": "8498a23e-eb4a-4aa8-8169-4ee905e8f5b0",
     "showTitle": false,
     "tableResultSettingsMap": {},
     "title": ""
    }
   },
   "outputs": [],
   "source": [
    "subject"
   ]
  },
  {
   "cell_type": "code",
   "execution_count": 0,
   "metadata": {
    "application/vnd.databricks.v1+cell": {
     "cellMetadata": {
      "byteLimit": 2048000,
      "rowLimit": 10000
     },
     "inputWidgets": {},
     "nuid": "0ec0ebf5-8154-4559-9cc0-b28f2782de5f",
     "showTitle": false,
     "tableResultSettingsMap": {},
     "title": ""
    }
   },
   "outputs": [],
   "source": [
    "subject()"
   ]
  },
  {
   "cell_type": "code",
   "execution_count": 0,
   "metadata": {
    "application/vnd.databricks.v1+cell": {
     "cellMetadata": {
      "byteLimit": 2048000,
      "rowLimit": 10000
     },
     "inputWidgets": {},
     "nuid": "b0176787-f8d7-4205-9859-52bd95cf7308",
     "showTitle": false,
     "tableResultSettingsMap": {},
     "title": ""
    }
   },
   "outputs": [],
   "source": [
    "subject"
   ]
  },
  {
   "cell_type": "code",
   "execution_count": 0,
   "metadata": {
    "application/vnd.databricks.v1+cell": {
     "cellMetadata": {
      "byteLimit": 2048000,
      "rowLimit": 10000
     },
     "inputWidgets": {},
     "nuid": "49036914-a560-449c-b193-effa8d8ff40a",
     "showTitle": false,
     "tableResultSettingsMap": {},
     "title": ""
    }
   },
   "outputs": [],
   "source": [
    "subject"
   ]
  },
  {
   "cell_type": "code",
   "execution_count": 0,
   "metadata": {
    "application/vnd.databricks.v1+cell": {
     "cellMetadata": {
      "byteLimit": 2048000,
      "rowLimit": 10000
     },
     "inputWidgets": {},
     "nuid": "b4509136-f393-472c-bffc-831476ac9056",
     "showTitle": false,
     "tableResultSettingsMap": {},
     "title": ""
    }
   },
   "outputs": [],
   "source": [
    "def demo_subject(name):\n",
    "    print(name)"
   ]
  },
  {
   "cell_type": "code",
   "execution_count": 0,
   "metadata": {
    "application/vnd.databricks.v1+cell": {
     "cellMetadata": {
      "byteLimit": 2048000,
      "rowLimit": 10000
     },
     "inputWidgets": {},
     "nuid": "264ca4c6-697e-4bc1-b752-cc4a36e58215",
     "showTitle": false,
     "tableResultSettingsMap": {},
     "title": ""
    }
   },
   "outputs": [],
   "source": [
    "demo_subject"
   ]
  },
  {
   "cell_type": "code",
   "execution_count": 0,
   "metadata": {
    "application/vnd.databricks.v1+cell": {
     "cellMetadata": {
      "byteLimit": 2048000,
      "rowLimit": 10000
     },
     "inputWidgets": {},
     "nuid": "1576f74b-b244-4ed4-a01a-91212f57f53e",
     "showTitle": false,
     "tableResultSettingsMap": {},
     "title": ""
    }
   },
   "outputs": [],
   "source": [
    "def python_subject():\n",
    "    print( \"python class\")\n",
    "    print (\"I Am learning python\")\n",
    "\n",
    "print (\"I am before function\")\n",
    "print(\"python_subject\")\n",
    "python_subject()# function call\n",
    "print (\"I am after function\")"
   ]
  },
  {
   "cell_type": "code",
   "execution_count": 0,
   "metadata": {
    "application/vnd.databricks.v1+cell": {
     "cellMetadata": {
      "byteLimit": 2048000,
      "rowLimit": 10000
     },
     "inputWidgets": {},
     "nuid": "cd6830fb-4978-401b-8f64-f0ddea4c61c1",
     "showTitle": false,
     "tableResultSettingsMap": {},
     "title": ""
    }
   },
   "outputs": [],
   "source": [
    "def printsubject(name):\n",
    "    print (\" I am learning \" ,name)\n",
    "\n",
    "printsubject(\"java\")\n",
    "printsubject(\"JavaScript\")\n",
    "printsubject(\"scala\")\n",
    "printsubject(1000)"
   ]
  },
  {
   "cell_type": "markdown",
   "metadata": {
    "application/vnd.databricks.v1+cell": {
     "cellMetadata": {},
     "inputWidgets": {},
     "nuid": "c883fc2d-abb7-4113-9185-c3641e49da57",
     "showTitle": false,
     "tableResultSettingsMap": {},
     "title": ""
    }
   },
   "source": [
    "###Reversing a String using Step Attribute \"::\""
   ]
  },
  {
   "cell_type": "code",
   "execution_count": 0,
   "metadata": {
    "application/vnd.databricks.v1+cell": {
     "cellMetadata": {
      "byteLimit": 2048000,
      "rowLimit": 10000
     },
     "inputWidgets": {},
     "nuid": "f8ec8152-7d1b-4a28-bbb0-e811ad814d54",
     "showTitle": false,
     "tableResultSettingsMap": {},
     "title": ""
    }
   },
   "outputs": [],
   "source": [
    "def printrevevrsesubject(name):\n",
    "\tprint (name[::-1])   #[from Index : (To Index - 1):Step]\n",
    "  \n",
    "printrevevrsesubject(\"python\")"
   ]
  },
  {
   "cell_type": "code",
   "execution_count": 0,
   "metadata": {
    "application/vnd.databricks.v1+cell": {
     "cellMetadata": {
      "byteLimit": 2048000,
      "rowLimit": 10000
     },
     "inputWidgets": {},
     "nuid": "3f5ba4bc-a523-449b-a357-94d06e7c3116",
     "showTitle": false,
     "tableResultSettingsMap": {},
     "title": ""
    }
   },
   "outputs": [],
   "source": [
    "#demostrantion of step attribute\n",
    "dataStep1='Pythons'\n",
    "print(dataStep1[::2])\n",
    "print(dataStep1[::-2])\n",
    "print(dataStep1[-1:-8:-1])"
   ]
  },
  {
   "cell_type": "code",
   "execution_count": 0,
   "metadata": {
    "application/vnd.databricks.v1+cell": {
     "cellMetadata": {
      "byteLimit": 2048000,
      "rowLimit": 10000
     },
     "inputWidgets": {},
     "nuid": "3f0d0f93-643a-4a38-aa52-b346985a90ad",
     "showTitle": false,
     "tableResultSettingsMap": {},
     "title": ""
    }
   },
   "outputs": [],
   "source": [
    "def detail(age,name):\n",
    "    print (age,name)\n",
    "    \n",
    "detail(10,\"aakash\")\n",
    "\n",
    "def printrevevrsesubject(name):\n",
    "\tprint (name[::-1])   #[from Index : (To Index - 1):Step]\n",
    "  \n",
    "printrevevrsesubject(\"python\")"
   ]
  },
  {
   "cell_type": "markdown",
   "metadata": {
    "application/vnd.databricks.v1+cell": {
     "cellMetadata": {},
     "inputWidgets": {},
     "nuid": "e196b591-7d38-43aa-a222-9593261cd473",
     "showTitle": false,
     "tableResultSettingsMap": {},
     "title": ""
    }
   },
   "source": [
    "##How to do documentation for help function"
   ]
  },
  {
   "cell_type": "code",
   "execution_count": 0,
   "metadata": {
    "application/vnd.databricks.v1+cell": {
     "cellMetadata": {
      "byteLimit": 2048000,
      "rowLimit": 10000
     },
     "inputWidgets": {},
     "nuid": "ee7f0128-16b1-42d7-bcc8-fffcb7c6716f",
     "showTitle": false,
     "tableResultSettingsMap": {},
     "title": ""
    }
   },
   "outputs": [],
   "source": [
    "def demofunction():\n",
    "    \"\"\"This function is for demo purpose\n",
    "    This function is anotehr line for demo purpose\"\"\"# docstring\n",
    "\n",
    "    print (\"demo \")\n",
    "    # this is to demo comments comments are writtern using #\n",
    "    \n",
    "help(demofunction)"
   ]
  },
  {
   "cell_type": "code",
   "execution_count": 0,
   "metadata": {
    "application/vnd.databricks.v1+cell": {
     "cellMetadata": {
      "byteLimit": 2048000,
      "rowLimit": 10000
     },
     "inputWidgets": {},
     "nuid": "35622e6d-1e5d-41bf-b3ee-739d6acde44d",
     "showTitle": false,
     "tableResultSettingsMap": {},
     "title": ""
    }
   },
   "outputs": [],
   "source": [
    "import __main__\n",
    "dict(__main__.__dict__)"
   ]
  },
  {
   "cell_type": "code",
   "execution_count": 0,
   "metadata": {
    "application/vnd.databricks.v1+cell": {
     "cellMetadata": {
      "byteLimit": 2048000,
      "rowLimit": 10000
     },
     "inputWidgets": {},
     "nuid": "a8a00ca5-4067-425f-9365-afb714153939",
     "showTitle": false,
     "tableResultSettingsMap": {},
     "title": ""
    }
   },
   "outputs": [],
   "source": [
    "\"demofunction\"  in dir(__main__)"
   ]
  },
  {
   "cell_type": "code",
   "execution_count": 0,
   "metadata": {
    "application/vnd.databricks.v1+cell": {
     "cellMetadata": {
      "byteLimit": 2048000,
      "rowLimit": 10000
     },
     "inputWidgets": {},
     "nuid": "0a7099f3-6482-4278-ac6e-5c8d6a6b691e",
     "showTitle": false,
     "tableResultSettingsMap": {},
     "title": ""
    }
   },
   "outputs": [],
   "source": [
    "def increasesalary(salary):\n",
    "    \"\"\"Testing\"\"\"\n",
    "    newsalary=salary*2.10\n",
    "    print (\"Revised salary \",newsalary)\n",
    "    \n",
    "    \n",
    "increasesalary(1000)"
   ]
  },
  {
   "cell_type": "code",
   "execution_count": 0,
   "metadata": {
    "application/vnd.databricks.v1+cell": {
     "cellMetadata": {
      "byteLimit": 2048000,
      "rowLimit": 10000
     },
     "inputWidgets": {},
     "nuid": "6802e199-6d84-4f16-845f-28d96e2a427c",
     "showTitle": false,
     "tableResultSettingsMap": {},
     "title": ""
    }
   },
   "outputs": [],
   "source": [
    "help(increasesalary)"
   ]
  },
  {
   "cell_type": "code",
   "execution_count": 0,
   "metadata": {
    "application/vnd.databricks.v1+cell": {
     "cellMetadata": {
      "byteLimit": 2048000,
      "rowLimit": 10000
     },
     "inputWidgets": {},
     "nuid": "695e9e57-24b3-4332-9d58-feff3eaf2239",
     "showTitle": false,
     "tableResultSettingsMap": {},
     "title": ""
    }
   },
   "outputs": [],
   "source": [
    "increasesalary"
   ]
  },
  {
   "cell_type": "markdown",
   "metadata": {
    "application/vnd.databricks.v1+cell": {
     "cellMetadata": {},
     "inputWidgets": {},
     "nuid": "6b848f2a-5459-412c-accb-db4d1bae634c",
     "showTitle": false,
     "tableResultSettingsMap": {},
     "title": ""
    }
   },
   "source": [
    "###Without Default parameters"
   ]
  },
  {
   "cell_type": "code",
   "execution_count": 0,
   "metadata": {
    "application/vnd.databricks.v1+cell": {
     "cellMetadata": {
      "byteLimit": 2048000,
      "rowLimit": 10000
     },
     "inputWidgets": {},
     "nuid": "289aa7e2-6978-47ab-9cea-75882e558127",
     "showTitle": false,
     "tableResultSettingsMap": {},
     "title": ""
    }
   },
   "outputs": [],
   "source": [
    "def calculatearea(base,height):\n",
    "\tarea=base*height\n",
    "\tprint (\"inside the function area: \" ,area)\n",
    "\treturn area\n",
    "x=calculatearea(10.3,778)\n",
    "print (x)\n",
    "print (type(x))"
   ]
  },
  {
   "cell_type": "markdown",
   "metadata": {
    "application/vnd.databricks.v1+cell": {
     "cellMetadata": {},
     "inputWidgets": {},
     "nuid": "a53fadaa-51f8-4bc3-ab8d-7a9b583be604",
     "showTitle": false,
     "tableResultSettingsMap": {},
     "title": ""
    }
   },
   "source": [
    "###With default parmeters"
   ]
  },
  {
   "cell_type": "code",
   "execution_count": 0,
   "metadata": {
    "application/vnd.databricks.v1+cell": {
     "cellMetadata": {
      "byteLimit": 2048000,
      "rowLimit": 10000
     },
     "inputWidgets": {},
     "nuid": "8d1b70c4-14d7-4658-9da1-dc16f62ef3a9",
     "showTitle": false,
     "tableResultSettingsMap": {},
     "title": ""
    }
   },
   "outputs": [],
   "source": [
    "def calculatearea(base=20,height=100):\n",
    "    print(type(base))\n",
    "    area=base*height//2\n",
    "    print (area)\n",
    "#    return(area)\n",
    "\n",
    "# def calculatearea():\n",
    "#     print(\" i am in 3 parameter\")\n",
    "#     area=base*height/2\n",
    "#     print(area)\n",
    "calculatearea()\n",
    "\n",
    "\n",
    "\n",
    "\n",
    "print(type(calculatearea))\n",
    "# calculatearea(base=2,height=1)\n"
   ]
  },
  {
   "cell_type": "markdown",
   "metadata": {
    "application/vnd.databricks.v1+cell": {
     "cellMetadata": {},
     "inputWidgets": {},
     "nuid": "ca83ebda-5064-4c7a-86a0-9111b00431a7",
     "showTitle": false,
     "tableResultSettingsMap": {},
     "title": ""
    }
   },
   "source": [
    "####Overiding default values"
   ]
  },
  {
   "cell_type": "code",
   "execution_count": 0,
   "metadata": {
    "application/vnd.databricks.v1+cell": {
     "cellMetadata": {
      "byteLimit": 2048000,
      "rowLimit": 10000
     },
     "inputWidgets": {},
     "nuid": "4785cc8a-25c6-4930-92b4-45d97733bf04",
     "showTitle": false,
     "tableResultSettingsMap": {},
     "title": ""
    }
   },
   "outputs": [],
   "source": [
    "calculatearea(20,30)"
   ]
  },
  {
   "cell_type": "markdown",
   "metadata": {
    "application/vnd.databricks.v1+cell": {
     "cellMetadata": {},
     "inputWidgets": {},
     "nuid": "d572bcfa-5dd5-44da-9cb5-d77b76bd9f9a",
     "showTitle": false,
     "tableResultSettingsMap": {},
     "title": ""
    }
   },
   "source": [
    "### Mixed Parameters (without,with-overiding,default)"
   ]
  },
  {
   "cell_type": "code",
   "execution_count": 0,
   "metadata": {
    "application/vnd.databricks.v1+cell": {
     "cellMetadata": {
      "byteLimit": 2048000,
      "rowLimit": 10000
     },
     "inputWidgets": {},
     "nuid": "cb0efe55-4ae4-4b33-a42e-9da1a48948f9",
     "showTitle": false,
     "tableResultSettingsMap": {},
     "title": ""
    }
   },
   "outputs": [],
   "source": [
    "def parrot(voltage, state='a stiff', action='voom', parrottype='Norwegian Blue'):\n",
    "    print (\"-- This parrot wouldn't\", action)\n",
    "    print (\"--if you put\", voltage, \"volts through it.\")\n",
    "    print (\"-- Lovely plumage, the\", parrottype)\n",
    "    print (\"-- It's\", state, \"!\")\n",
    "    \n",
    "\n",
    "parrot('a thousand', state='pushing up the daisies')  # 1 positional, 1 keyword"
   ]
  },
  {
   "cell_type": "code",
   "execution_count": 0,
   "metadata": {
    "application/vnd.databricks.v1+cell": {
     "cellMetadata": {
      "byteLimit": 2048000,
      "rowLimit": 10000
     },
     "inputWidgets": {},
     "nuid": "869dea88-c1d5-4b49-9026-ba02665279f1",
     "showTitle": false,
     "tableResultSettingsMap": {},
     "title": ""
    }
   },
   "outputs": [],
   "source": [
    "parrot('a million', 'bereft of life', 'jump')     # 3 positional arguments\n",
    "\n",
    "\n",
    "parrot(1000,'',\"wet\")# 1 positional argument"
   ]
  },
  {
   "cell_type": "code",
   "execution_count": 0,
   "metadata": {
    "application/vnd.databricks.v1+cell": {
     "cellMetadata": {
      "byteLimit": 2048000,
      "rowLimit": 10000
     },
     "inputWidgets": {},
     "nuid": "830abff1-a485-4150-b9db-4eb3d582d19a",
     "showTitle": false,
     "tableResultSettingsMap": {},
     "title": ""
    }
   },
   "outputs": [],
   "source": [
    "def my_function(*kids):\n",
    "          print (\" The youngest Child is \" +kids[2] +kids[3])\n",
    "          print(kids)\n",
    "          print(type(kids))\n",
    "\n",
    "\n",
    "\n",
    "my_function(\"Ravi\",\"Raj\",\"Ram\", \"Shankar\",'kiran','sandeep')"
   ]
  },
  {
   "cell_type": "code",
   "execution_count": 0,
   "metadata": {
    "application/vnd.databricks.v1+cell": {
     "cellMetadata": {
      "byteLimit": 2048000,
      "rowLimit": 10000
     },
     "inputWidgets": {},
     "nuid": "ef6de1dc-e069-4708-9edd-bca87dbd0d23",
     "showTitle": false,
     "tableResultSettingsMap": {},
     "title": ""
    }
   },
   "outputs": [],
   "source": [
    "testing_data_type=1,2,7,12.5,\"Test\",True\n",
    "print(testing_data_type)\n",
    "print(type(testing_data_type))"
   ]
  },
  {
   "cell_type": "code",
   "execution_count": 0,
   "metadata": {
    "application/vnd.databricks.v1+cell": {
     "cellMetadata": {
      "byteLimit": 2048000,
      "rowLimit": 10000
     },
     "inputWidgets": {},
     "nuid": "57e4bd7b-e864-43dd-bbfa-790e9b5efa26",
     "showTitle": false,
     "tableResultSettingsMap": {},
     "title": ""
    }
   },
   "outputs": [],
   "source": [
    "def my_function([*kids]):\n",
    "          print (\" The youngest Child is \" +kids[2] +kids[3])\n",
    "          print(kids)\n",
    "          print(type(kids))\n",
    "\n",
    "\n",
    "\n",
    "my_function([\"Ravi\",\"Raj\",\"Ram\", \"Shankar\",'kiran','sandeep'])"
   ]
  },
  {
   "cell_type": "markdown",
   "metadata": {
    "application/vnd.databricks.v1+cell": {
     "cellMetadata": {},
     "inputWidgets": {},
     "nuid": "5f60b4d3-a4db-419f-b7d1-550499f906b0",
     "showTitle": false,
     "tableResultSettingsMap": {},
     "title": ""
    }
   },
   "source": [
    "####Lambda Function\n",
    "The lambda keyword creates an inline function that contains a single expression. The value of this expression is what the function returns when invoked. Consider the function:\n"
   ]
  },
  {
   "cell_type": "code",
   "execution_count": 0,
   "metadata": {
    "application/vnd.databricks.v1+cell": {
     "cellMetadata": {
      "byteLimit": 2048000,
      "rowLimit": 10000
     },
     "inputWidgets": {},
     "nuid": "7bfd0911-af98-4f21-900c-e71ce085f12f",
     "showTitle": false,
     "tableResultSettingsMap": {},
     "title": ""
    }
   },
   "outputs": [],
   "source": [
    "greet3_me = lambda : \"Hello\"\n",
    "print(greet3_me())\n",
    "\n",
    "\n",
    "print (type(greet3_me))"
   ]
  },
  {
   "cell_type": "code",
   "execution_count": 0,
   "metadata": {
    "application/vnd.databricks.v1+cell": {
     "cellMetadata": {
      "byteLimit": 2048000,
      "rowLimit": 10000
     },
     "inputWidgets": {},
     "nuid": "1364811b-625e-477b-8ac8-6c655949053f",
     "showTitle": false,
     "tableResultSettingsMap": {},
     "title": ""
    }
   },
   "outputs": [],
   "source": [
    "strip_and_upper_case = lambda s = '  python ': s.strip().upper()\n",
    "print(strip_and_upper_case())\n",
    "print(type(strip_and_upper_case))\n",
    "print(strip_and_upper_case)"
   ]
  },
  {
   "cell_type": "code",
   "execution_count": 0,
   "metadata": {
    "application/vnd.databricks.v1+cell": {
     "cellMetadata": {
      "byteLimit": 2048000,
      "rowLimit": 10000
     },
     "inputWidgets": {},
     "nuid": "0c2ec6f9-2794-43c4-a471-2a562d6ba113",
     "showTitle": false,
     "tableResultSettingsMap": {},
     "title": ""
    }
   },
   "outputs": [],
   "source": [
    "abc = lambda x, y = 10: x + y\n",
    "\n",
    "print(abc(4))\n",
    "print(abc(4,5))\n",
    "print(abc(4,5.4))"
   ]
  },
  {
   "cell_type": "markdown",
   "metadata": {
    "application/vnd.databricks.v1+cell": {
     "cellMetadata": {},
     "inputWidgets": {},
     "nuid": "504b325f-49f5-4087-a735-8b9e6f0398cc",
     "showTitle": false,
     "tableResultSettingsMap": {},
     "title": ""
    }
   },
   "source": [
    "###Arbitary number of arguments for dictionary"
   ]
  },
  {
   "cell_type": "code",
   "execution_count": 0,
   "metadata": {
    "application/vnd.databricks.v1+cell": {
     "cellMetadata": {
      "byteLimit": 2048000,
      "rowLimit": 10000
     },
     "inputWidgets": {},
     "nuid": "210f208b-e135-46d8-bdb6-5ca33bfc4655",
     "showTitle": false,
     "tableResultSettingsMap": {},
     "title": ""
    }
   },
   "outputs": [],
   "source": [
    "greeting= lambda x , *args, **kwargs: print(x,args,kwargs)\n",
    "greeting('hello','world',world='third world  fourth')"
   ]
  },
  {
   "cell_type": "code",
   "execution_count": 0,
   "metadata": {
    "application/vnd.databricks.v1+cell": {
     "cellMetadata": {
      "byteLimit": 2048000,
      "rowLimit": 10000
     },
     "inputWidgets": {},
     "nuid": "8489c6ac-b914-4c6d-b9c0-9b53c7c59230",
     "showTitle": false,
     "tableResultSettingsMap": {},
     "title": ""
    }
   },
   "outputs": [],
   "source": [
    "greeting= lambda x , *a, **b: print(x,a,b)\n",
    "greeting('hello','world',world='third world  fourth')"
   ]
  },
  {
   "cell_type": "code",
   "execution_count": 0,
   "metadata": {
    "application/vnd.databricks.v1+cell": {
     "cellMetadata": {
      "byteLimit": 2048000,
      "rowLimit": 10000
     },
     "inputWidgets": {},
     "nuid": "e269aef7-2df1-4d0b-a798-8af4a33e0807",
     "showTitle": false,
     "tableResultSettingsMap": {},
     "title": ""
    }
   },
   "outputs": [],
   "source": [
    "def foo(msg):\n",
    "    print(msg)\n",
    "greet = lambda x = \"hello world\": foo(x)\n",
    "greet()"
   ]
  },
  {
   "cell_type": "code",
   "execution_count": 0,
   "metadata": {
    "application/vnd.databricks.v1+cell": {
     "cellMetadata": {
      "byteLimit": 2048000,
      "rowLimit": 10000
     },
     "inputWidgets": {},
     "nuid": "d372198b-2d71-4675-84c6-ccb0291acef2",
     "showTitle": false,
     "tableResultSettingsMap": {},
     "title": ""
    }
   },
   "outputs": [],
   "source": [
    "def fun(x):\n",
    "\treturn lambda a: a**x\n",
    "power2 = fun(3) #Function variable power2 = fun(a)\n",
    "# power2= lambda a: a**2\n",
    "power2(5)\n",
    "#print(power2())"
   ]
  },
  {
   "cell_type": "code",
   "execution_count": 0,
   "metadata": {
    "application/vnd.databricks.v1+cell": {
     "cellMetadata": {
      "byteLimit": 2048000,
      "rowLimit": 10000
     },
     "inputWidgets": {},
     "nuid": "8ce2ec4d-1120-4441-b447-84a775db5860",
     "showTitle": false,
     "tableResultSettingsMap": {},
     "title": ""
    }
   },
   "outputs": [],
   "source": [
    "%python\n",
    "fp=open(r\"/Volumes/workspace/default/databrick-volume/MyPythonFile.txt\",'r')\n",
    "content=fp.read()\n",
    "print(content)\n",
    "fp.close()"
   ]
  },
  {
   "cell_type": "code",
   "execution_count": 0,
   "metadata": {
    "application/vnd.databricks.v1+cell": {
     "cellMetadata": {
      "byteLimit": 2048000,
      "rowLimit": 10000
     },
     "inputWidgets": {},
     "nuid": "3bbd0c6a-cbf6-4d50-91c4-3da5c45b6482",
     "showTitle": false,
     "tableResultSettingsMap": {},
     "title": ""
    }
   },
   "outputs": [],
   "source": [
    "%python\n",
    "fp=open(r\"/Volumes/workspace/default/databrick-volume/MyPythonFile.txt\",'r')\n",
    "content=fp.read(25)\n",
    "print(content)\n",
    "fp.close()"
   ]
  },
  {
   "cell_type": "code",
   "execution_count": 0,
   "metadata": {
    "application/vnd.databricks.v1+cell": {
     "cellMetadata": {
      "byteLimit": 2048000,
      "rowLimit": 10000
     },
     "inputWidgets": {},
     "nuid": "692cf9db-5549-484e-999d-e4fda00f3d3a",
     "showTitle": false,
     "tableResultSettingsMap": {},
     "title": ""
    }
   },
   "outputs": [],
   "source": [
    "fp= open('/Volumes/workspace/default/databrick-volume/MyPythonFile.txt', 'r')\n",
    "for i in fp:\n",
    "    print(i)\n",
    "fp.close()"
   ]
  },
  {
   "cell_type": "code",
   "execution_count": 0,
   "metadata": {
    "application/vnd.databricks.v1+cell": {
     "cellMetadata": {
      "byteLimit": 2048000,
      "rowLimit": 10000
     },
     "inputWidgets": {},
     "nuid": "6506edd9-b0a4-40fe-89d5-57a2ba9ba772",
     "showTitle": false,
     "tableResultSettingsMap": {},
     "title": ""
    }
   },
   "outputs": [],
   "source": [
    "fp=open(\"/Volumes/workspace/default/databrick-volume/MyPythonFile.txt\",'r')\n",
    "fp.close()\n",
    "print(fp)\n",
    "print(fp.read())"
   ]
  },
  {
   "cell_type": "code",
   "execution_count": 0,
   "metadata": {
    "application/vnd.databricks.v1+cell": {
     "cellMetadata": {
      "byteLimit": 2048000,
      "rowLimit": 10000
     },
     "inputWidgets": {},
     "nuid": "53e9f70c-1a96-4505-ac6f-ec0d37416ead",
     "showTitle": false,
     "tableResultSettingsMap": {},
     "title": ""
    }
   },
   "outputs": [],
   "source": [
    "fp=open(\"/Volumes/workspace/default/databrick-volume/MyPythonFile.txt\", 'w')\n",
    "fp.write(\"Hello, My Name is Naveen Reddy\\nI am living in Pune\\nWorking for Synechron.\\n\")\n",
    "fp.close()"
   ]
  },
  {
   "cell_type": "code",
   "execution_count": 0,
   "metadata": {
    "application/vnd.databricks.v1+cell": {
     "cellMetadata": {
      "byteLimit": 2048000,
      "rowLimit": 10000
     },
     "inputWidgets": {},
     "nuid": "0bc42473-798d-493a-b77c-92684c834ab8",
     "showTitle": false,
     "tableResultSettingsMap": {},
     "title": ""
    }
   },
   "outputs": [],
   "source": [
    "fp=open(\"/Volumes/workspace/default/databrick-volume/output1.txt\", 'w')\n",
    "fp.write(\"this is for my test string\\n\")\n",
    "fp.close()"
   ]
  },
  {
   "cell_type": "code",
   "execution_count": 0,
   "metadata": {
    "application/vnd.databricks.v1+cell": {
     "cellMetadata": {
      "byteLimit": 2048000,
      "rowLimit": 10000
     },
     "inputWidgets": {},
     "nuid": "2189541e-f74f-475e-ac60-f57146674374",
     "showTitle": false,
     "tableResultSettingsMap": {},
     "title": ""
    }
   },
   "outputs": [],
   "source": [
    "fp=open(\"/Volumes/workspace/default/databrick-volume/output.txt\", 'w')\n",
    "# a=\"this is for file operation write operation\"\n",
    "b = '565657'\n",
    "fp.write(b)\n",
    "line2 = \"the emblem of our land for write operation.\\n\"\n",
    "fp.write(line2)\n",
    "fp.write(\"  this is for my test string\\n\")\n",
    "fp.close()"
   ]
  },
  {
   "cell_type": "code",
   "execution_count": 0,
   "metadata": {
    "application/vnd.databricks.v1+cell": {
     "cellMetadata": {
      "byteLimit": 2048000,
      "rowLimit": 10000
     },
     "inputWidgets": {},
     "nuid": "cbef2c5b-5acf-466f-ac96-d974ef53e583",
     "showTitle": false,
     "tableResultSettingsMap": {},
     "title": ""
    }
   },
   "outputs": [],
   "source": [
    "output_file = open(\"/Volumes/workspace/default/databrick-volume/output1.txt\", \"w\")\n",
    "lines_to_write = [\n",
    "\"This is my file.\\n\",\n",
    "\"There are many like it,\\n\",\n",
    "\"but this one is mine.\\n\"]\n",
    "output_file.writelines(lines_to_write)\n",
    "output_file.close()"
   ]
  },
  {
   "cell_type": "code",
   "execution_count": 0,
   "metadata": {
    "application/vnd.databricks.v1+cell": {
     "cellMetadata": {
      "byteLimit": 2048000,
      "rowLimit": 10000
     },
     "inputWidgets": {},
     "nuid": "c3249cbf-5779-42d9-8f6f-7bbded691b92",
     "showTitle": false,
     "tableResultSettingsMap": {},
     "title": ""
    }
   },
   "outputs": [],
   "source": [
    "output_file = open('/Volumes/workspace/default/databrick-volume/output1.txt', 'a')\n",
    "l=[\"This is to append\",\"\\nThis will be last line in the file\"]\n",
    "output_file.writelines(l)\n",
    "output_file.close()\n",
    "# output_file"
   ]
  },
  {
   "cell_type": "code",
   "execution_count": 0,
   "metadata": {
    "application/vnd.databricks.v1+cell": {
     "cellMetadata": {
      "byteLimit": 2048000,
      "rowLimit": 10000
     },
     "inputWidgets": {},
     "nuid": "b0dcfcd4-72b8-46ee-a462-cd252f29ee44",
     "showTitle": false,
     "tableResultSettingsMap": {},
     "title": ""
    }
   },
   "outputs": [],
   "source": [
    "import osfile_path = \"C:/Users/Naveen.Mamidi/OneDrive - Synechron Inc/Documents/Library/Python/Files/output12.txt\"\n",
    "if not os.path.exists(file_path):\n",
    "    open(file_path, 'w').close()\n",
    "fc=open(file_path, 'r+')\n",
    "\n",
    "i=fc.tell()\n",
    "print (\"Initial file pointer position\",i)\n",
    "fc.seek(20)\n",
    "i=fc.tell()\n",
    "print (f\"After seek 20 file pointer position {i}\")\n",
    "fc.close()"
   ]
  },
  {
   "cell_type": "code",
   "execution_count": 0,
   "metadata": {
    "application/vnd.databricks.v1+cell": {
     "cellMetadata": {
      "byteLimit": 2048000,
      "rowLimit": 10000
     },
     "inputWidgets": {},
     "nuid": "cc885a10-4fa8-4d92-8763-ecd89e74c1d8",
     "showTitle": false,
     "tableResultSettingsMap": {},
     "title": ""
    }
   },
   "outputs": [],
   "source": [
    "%python\n",
    "output_file = open(\n",
    "    \"/dbfs/tmp/output1.txt\",\n",
    "    \"a\"\n",
    ")\n",
    "l = [\n",
    "    \"This is to append\",\n",
    "    \"\\nThis will be last line in the file\"\n",
    "]\n",
    "output_file.writelines(l)\n",
    "output_file.close()"
   ]
  },
  {
   "cell_type": "code",
   "execution_count": 0,
   "metadata": {
    "application/vnd.databricks.v1+cell": {
     "cellMetadata": {
      "byteLimit": 2048000,
      "rowLimit": 10000
     },
     "inputWidgets": {},
     "nuid": "8c0e1ccd-e142-4b60-ab0d-a01ba07fea90",
     "showTitle": false,
     "tableResultSettingsMap": {},
     "title": ""
    }
   },
   "outputs": [],
   "source": [
    "fc=open(\"/Volumes/workspace/default/databrick-volume/output12.txt\", 'r+')\n",
    "i=fc.tell()\n",
    "print (\"Initial file pointer position\",i)\n",
    "fc.seek(20)\n",
    "i=fc.tell()\n",
    "print (f\"After seek 20 file pointer position {i}\")\n",
    "fc.close()"
   ]
  },
  {
   "cell_type": "code",
   "execution_count": 0,
   "metadata": {
    "application/vnd.databricks.v1+cell": {
     "cellMetadata": {
      "byteLimit": 2048000,
      "rowLimit": 10000
     },
     "inputWidgets": {},
     "nuid": "795d95ef-9805-4919-967c-f68f339e2ae6",
     "showTitle": false,
     "tableResultSettingsMap": {},
     "title": ""
    }
   },
   "outputs": [],
   "source": [
    "in_file=open('/Volumes/workspace/default/databrick-volume/output.txt', 'r')\n",
    "out_file=open('/Volumes/workspace/default/databrick-volume/output_file.txt', 'w')\n",
    "with open('/Volumes/workspace/default/databrick-volume/output.txt', 'r') as in_file, open('/Volumes/workspace/default/databrick-volume/output_file.txt', 'w') as out_file:\n",
    "    for line in in_file:\n",
    "        out_file.write(line)\n",
    "\n",
    "print(\"this is after autometic close \")"
   ]
  }
 ],
 "metadata": {
  "application/vnd.databricks.v1+notebook": {
   "computePreferences": null,
   "dashboards": [],
   "environmentMetadata": {
    "base_environment": "",
    "environment_version": "3"
   },
   "inputWidgetPreferences": null,
   "language": "python",
   "notebookMetadata": {
    "mostRecentlyExecutedCommandWithImplicitDF": {
     "commandId": 4865893077256924,
     "dataframes": [
      "_sqldf"
     ]
    },
    "pythonIndentUnit": 4
   },
   "notebookName": "PythonAdvDay-1",
   "widgets": {}
  },
  "language_info": {
   "name": "python"
  }
 },
 "nbformat": 4,
 "nbformat_minor": 0
}
